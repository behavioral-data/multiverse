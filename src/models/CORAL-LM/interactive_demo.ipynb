{
 "cells": [
  {
   "cell_type": "code",
   "execution_count": null,
   "metadata": {},
   "outputs": [],
   "source": [
    "%load_ext autoreload\n",
    "%autoreload 2"
   ]
  },
  {
   "cell_type": "code",
   "execution_count": 2,
   "metadata": {},
   "outputs": [],
   "source": [
    "import ast\n",
    "from torch.utils.data import DataLoader\n",
    "import re\n",
    "\n",
    "from coral import interactive\n",
    "from coral.dataset.parse_python import parse_string, extract_funcs_from_py\n",
    "from coral.dataset import DataReader, UnitedVocab, CORALDataset, my_collate, key_lib"
   ]
  },
  {
   "cell_type": "code",
   "execution_count": 3,
   "metadata": {},
   "outputs": [
    {
     "name": "stdout",
     "output_type": "stream",
     "text": [
      "Load Data /projects/bdata/jupyter/gezhang_backup/jupyter-notebook-analysis/graphs/cell_with_func_python23_1_27.txt\n"
     ]
    },
    {
     "name": "stderr",
     "output_type": "stream",
     "text": [
      "2516572it [02:29, 16788.97it/s]\n"
     ]
    },
    {
     "name": "stdout",
     "output_type": "stream",
     "text": [
      "Loading Vocab\n",
      "Vocab Size:  17654\n",
      "Loading Train Dataset /projects/bdata/jupyter/gezhang_backup/jupyter-notebook-analysis/graphs/cell_with_func_python23_1_27.txt\n",
      "698074\n",
      "Loading Dev Dataset /projects/bdata/jupyter/gezhang_backup/jupyter-notebook-analysis/graphs/cell_with_func_python23_1_27.txt\n",
      "174519\n",
      "Creating Dataloaders\n",
      "Building BERT model\n",
      "Creating BERT Trainer\n",
      "Total Parameters: 12742902\n",
      "Trainer Complete\n"
     ]
    }
   ],
   "source": [
    "session = interactive.Session(dataset=\"/projects/bdata/jupyter/gezhang_backup/jupyter-notebook-analysis/graphs/cell_with_func_python23_1_27.txt\",\n",
    "                              model_path='/projects/bdata/jupyter/gezhang_backup/BERT-pytorch/pretrain/model.ep9',\n",
    "                              vocab_path='/projects/bdata/jupyter/gezhang_backup/BERT-pytorch/pretrain/vocab.txt',\n",
    "                              with_cuda = False)"
   ]
  },
  {
   "cell_type": "code",
   "execution_count": 27,
   "metadata": {},
   "outputs": [],
   "source": [
    "def get_string_between(s,start,stop):\n",
    "    result = re.search('{0}(.*){1}'.format(start,stop), s)\n",
    "    return(result.group(1))\n",
    "\n",
    "def get_string_before(s,stop):\n",
    "    index = s.find(stop)\n",
    "    return s[:index]\n",
    "\n",
    "def get_string_after(s,start):\n",
    "    len_start = len(start)\n",
    "    index = s.rfind(start)\n",
    "    return s[(index + len_start):]\n",
    "\n",
    "\n",
    "def snippet_to_graph(snippet,mask_start = None, mask_end=None):\n",
    "    \n",
    "    if mask_start and mask_end:\n",
    "        start = get_string_before(snippet,mask_start)\n",
    "        to_mask = get_string_between(snippet,mask_start,mask_end)\n",
    "\n",
    "        n_nodes_in_start = len(parse_string(start))\n",
    "        n_nodes_in_mask = len(parse_string(to_mask)) - 1\n",
    "        \n",
    "        snippet = snippet.replace(mask_end,\"\").replace(mask_start,\"\")\n",
    "        print(snippet)\n",
    "        \n",
    "        to_mask = list(range(n_nodes_in_start, n_nodes_in_start + n_nodes_in_mask))\n",
    "    \n",
    "    else:\n",
    "        to_mask = None\n",
    "        \n",
    "        \n",
    "    graph = {\n",
    "        \"context\": snippet,\n",
    "        \"nodes\"  : parse_string(snippet),\n",
    "        \"funcs\"  : extract_funcs_from_py(snippet)[0],\n",
    "        \"annotation\" : [],\n",
    "        \"header\": \"[EMPTY]\",\n",
    "        \"to_mask\": to_mask\n",
    "    }\n",
    "    \n",
    "    return graph\n",
    "\n",
    "\n",
    "def decode_sequence(seq):\n",
    "    return [session.vocab.idx2word[x] for x in seq]\n",
    "\n",
    "def snippet_forward(session,snippet, masked = True,mask_start = None, mask_end=None,\n",
    "                   mask_fn = None):\n",
    "    \n",
    "    graph = snippet_to_graph(snippet,mask_start = mask_start, mask_end=mask_end)\n",
    "    \n",
    "    \n",
    "    #Do we need to do this step?\n",
    "    #Yes, because this is where we get the adj matrix\n",
    "    dataset = CORALDataset([graph], session.vocab, seq_len=session.seq_len,\n",
    "              n_neg=session.duplicate, use_sub_token=session.use_sub_token, \n",
    "              markdown=session.markdown, masked=True, mask_fn = mask_fn)\n",
    "    data_loader = DataLoader(dataset,collate_fn=my_collate)\n",
    "    results, topk  = session.trainer.api(data_loader)\n",
    "    \n",
    "    \n",
    "    \n",
    "    mask_results = []\n",
    "    ii = 0\n",
    "    # for (d, _), r, tk in zip(test_dataset, results, topk):\n",
    "    for (d, _), r, tk in zip(dataset, results, topk):\n",
    "\n",
    "        # g = test_dataset.graphs[ii]\n",
    "        g = dataset.graphs[ii]\n",
    "\n",
    "        ii += 1\n",
    "        bert_input = d[\"bert_input\"]\n",
    "        target_label = d[\"target_label\"]\n",
    "        flag = False\n",
    "        for i, t in enumerate(bert_input):\n",
    "\n",
    "            if t == 2:\n",
    "                if not flag:\n",
    "                    print('=' * 20)\n",
    "                    print(g[\"context\"])\n",
    "                    flag = True\n",
    "                mask_results.append((target_label[i], r[i]))\n",
    "\n",
    "                print(session.vocab.idx2word[target_label[i]], [\n",
    "                      session.vocab.idx2word[tkk] for tkk in tk[i]])\n",
    "\n",
    "    counter = 0\n",
    "    for t, r in mask_results:\n",
    "        if t == r:\n",
    "            counter += 1\n",
    "\n",
    "    tokens = []\n",
    "    for t, r in mask_results:\n",
    "\n",
    "        if session.vocab.idx2word[r] not in tokens:\n",
    "            tokens.append(session.vocab.idx2word[r])\n",
    "def decode_sequence(seq):\n",
    "    return [session.vocab.idx2word[x] for x in seq]"
   ]
  },
  {
   "cell_type": "code",
   "execution_count": 1,
   "metadata": {},
   "outputs": [
    {
     "ename": "NameError",
     "evalue": "name 'snippet_forward' is not defined",
     "output_type": "error",
     "traceback": [
      "\u001b[0;31m---------------------------------------------------------------------------\u001b[0m",
      "\u001b[0;31mNameError\u001b[0m                                 Traceback (most recent call last)",
      "\u001b[0;32m<ipython-input-1-98069e1fe2f2>\u001b[0m in \u001b[0;36m<module>\u001b[0;34m\u001b[0m\n\u001b[1;32m      4\u001b[0m \u001b[0;34m\u001b[0m\u001b[0m\n\u001b[1;32m      5\u001b[0m reg.coef_\"\"\"\n\u001b[0;32m----> 6\u001b[0;31m \u001b[0msnippet_forward\u001b[0m\u001b[0;34m(\u001b[0m\u001b[0msession\u001b[0m\u001b[0;34m,\u001b[0m\u001b[0mcustom_snippet\u001b[0m\u001b[0;34m)\u001b[0m\u001b[0;34m\u001b[0m\u001b[0;34m\u001b[0m\u001b[0m\n\u001b[0m",
      "\u001b[0;31mNameError\u001b[0m: name 'snippet_forward' is not defined"
     ]
    }
   ],
   "source": [
    "custom_snippet = \"\"\"from sklearn import linear_model\n",
    "reg = sklearn.linear_model.LinearRegression()\n",
    "reg.fit([[0, 0], [1, 1], [2, 2]], [0, 1, 2])\n",
    "\n",
    "reg.coef_\"\"\"\n",
    "snippet_forward(session,custom_snippet)"
   ]
  },
  {
   "cell_type": "code",
   "execution_count": 21,
   "metadata": {},
   "outputs": [],
   "source": [
    "def roll_your_own_mask(graph):\n",
    "    nodes = session.test_dataset.get_node_seq(graph)\n",
    "    to_mask = graph[\"to_mask\"]\n",
    "    masked_nodes = []\n",
    "    for i,n in enumerate(nodes):\n",
    "        if i in to_mask:\n",
    "            masked_nodes.append(\"[MASK]\")\n",
    "        else:\n",
    "            masked_nodes.append(n)\n",
    "    ids = [session.vocab.word2idx.get(n, session.vocab.unk_index) for n in masked_nodes]\n",
    "    return ids"
   ]
  },
  {
   "cell_type": "code",
   "execution_count": 26,
   "metadata": {},
   "outputs": [
    {
     "name": "stdout",
     "output_type": "stream",
     "text": [
      "from sklearn import linear_model\n",
      "reg = sklearn.linear_model.LinearRegression()\n",
      "reg.fit(X)\n",
      "reg.coef_\n",
      "\n",
      "[10511, 4855, 15467, 3243, 1186, 3160, 3745, 3745, 4855, 15467, 12876, 2, 2, 2, 2, 2, 2, 13842, 3745, 1186, 588]\n"
     ]
    }
   ],
   "source": [
    "masked_snippet = \"\"\"from sklearn import linear_model\n",
    "reg = sklearn.linear_model.LinearRegression()\n",
    "<mask>reg.fit(X)</mask>\n",
    "reg.coef_\n",
    "\"\"\"\n",
    "\n",
    "masked_graph = snippet_to_graph(masked_snippet,mask_start=\"<mask>\", mask_end = \"</mask>\")\n",
    "print(roll_your_own_mask(masked_graph))"
   ]
  },
  {
   "cell_type": "code",
   "execution_count": 31,
   "metadata": {},
   "outputs": [
    {
     "name": "stderr",
     "output_type": "stream",
     "text": [
      "100%|| 1/1 [00:00<00:00, 11.15it/s]"
     ]
    },
    {
     "name": "stdout",
     "output_type": "stream",
     "text": [
      "from sklearn import linear_model\n",
      "\n",
      "reg = sklearn.linear_model.LinearRegression()\n",
      "reg.fit(X)\n",
      "print(X)\n",
      "reg.coef_\n",
      "\n",
      "====================\n",
      "from sklearn import linear_model\n",
      "\n",
      "reg = sklearn.linear_model.LinearRegression()\n",
      "reg.fit(X)\n",
      "print(X)\n",
      "reg.coef_\n",
      "\n",
      "Expr ['LinearRegression', 'Ridge', 'mean_squared_error', 'Lasso', 'r2_score']\n",
      "Call ['LinearRegression', 'mean_squared_error', 'Ridge', 'Lasso', 'r2_score']\n",
      "print ['LinearRegression', 'Ridge', 'mean_squared_error', 'Lasso', 'r2_score']\n",
      "X ['LinearRegression', 'Ridge', 'mean_squared_error', 'Lasso', 'r2_score']\n"
     ]
    },
    {
     "name": "stderr",
     "output_type": "stream",
     "text": [
      "\n"
     ]
    }
   ],
   "source": [
    "masked_snippet = \"\"\"from sklearn import linear_model\n",
    "\n",
    "reg = sklearn.linear_model.LinearRegression()\n",
    "reg.fit(X)\n",
    "<mask>print(X)</mask>\n",
    "reg.coef_\n",
    "\"\"\"\n",
    "snippet_forward(session,masked_snippet,mask_start = \"<mask>\", mask_end = \"</mask>\", mask_fn=roll_your_own_mask)"
   ]
  },
  {
   "cell_type": "code",
   "execution_count": 33,
   "metadata": {},
   "outputs": [
    {
     "name": "stderr",
     "output_type": "stream",
     "text": [
      "100%|| 1/1 [00:00<00:00,  8.05it/s]"
     ]
    },
    {
     "name": "stdout",
     "output_type": "stream",
     "text": [
      "\n",
      "le = preprocessing.LabelEncoder()\n",
      "titanic_data['Sex'] = le.fit_transform(titanic_data['Sex'])\n",
      "titanic_data['Embarked'] = le.fit_transform(titanic_data['Embarked'])\n",
      "titanic_data['name_title'] = le.fit_transform(titanic_data['name_title'])\n",
      "titanic_data.head()\n",
      "\n",
      "====================\n",
      "\n",
      "le = preprocessing.LabelEncoder()\n",
      "titanic_data['Sex'] = le.fit_transform(titanic_data['Sex'])\n",
      "titanic_data['Embarked'] = le.fit_transform(titanic_data['Embarked'])\n",
      "titanic_data['name_title'] = le.fit_transform(titanic_data['name_title'])\n",
      "titanic_data.head()\n",
      "\n",
      "Assign ['LabelEncoder', 'apply', 'inverse_transform', 'Series', 'crosstab']\n",
      "SubscriptStore ['LabelEncoder', 'apply', 'sum', 'inverse_transform', 'skew']\n",
      "titanic_data ['LabelEncoder', 'apply', 'inverse_transform', 'PCA', 'map']\n",
      "Index ['LabelEncoder', 'apply', 'map', 'inverse_transform', 'sum']\n",
      "Sex ['LabelEncoder', 'apply', 'inverse_transform', 'PCA', 'map']\n",
      "Call ['apply', 'map', 'LabelEncoder', 'inverse_transform', 'face']\n",
      "AttributeLoad ['LabelEncoder', 'apply', 'map', 'skew', 'inverse_transform']\n",
      "le ['LabelEncoder', 'inverse_transform', 'apply', 'skew', 'sum']\n",
      "fit_transform ['LabelEncoder', 'apply', 'inverse_transform', 'skew', 'sum']\n",
      "SubscriptLoad ['apply', 'LabelEncoder', 'skew', 'inverse_transform', 'sum']\n",
      "titanic_data ['LabelEncoder', 'apply', 'inverse_transform', 'skew', 'map']\n",
      "Index ['apply', 'LabelEncoder', 'inverse_transform', 'skew', 'map']\n",
      "Sex ['LabelEncoder', 'apply', 'inverse_transform', 'skew', 'PCA']\n"
     ]
    },
    {
     "name": "stderr",
     "output_type": "stream",
     "text": [
      "\n"
     ]
    }
   ],
   "source": [
    "masked_snippet_prime = \"\"\"\n",
    "le = preprocessing.LabelEncoder()\n",
    "<mask>titanic_data['Sex'] = le.fit_transform(titanic_data['Sex'])</mask>\n",
    "titanic_data['Embarked'] = le.fit_transform(titanic_data['Embarked'])\n",
    "titanic_data['name_title'] = le.fit_transform(titanic_data['name_title'])\n",
    "titanic_data.head()\n",
    "\"\"\"\n",
    "snippet_forward(session,masked_snippet_prime,mask_start = \"<mask>\", mask_end = \"</mask>\", mask_fn=roll_your_own_mask)"
   ]
  },
  {
   "cell_type": "code",
   "execution_count": null,
   "metadata": {},
   "outputs": [],
   "source": []
  },
  {
   "cell_type": "code",
   "execution_count": null,
   "metadata": {},
   "outputs": [],
   "source": [
    "import torch\n",
    "torch.cuda.is_available()"
   ]
  },
  {
   "cell_type": "code",
   "execution_count": null,
   "metadata": {},
   "outputs": [],
   "source": [
    "\"ab<mask>c</mask>\".find(\"<mask>\")"
   ]
  },
  {
   "cell_type": "code",
   "execution_count": null,
   "metadata": {},
   "outputs": [],
   "source": [
    "\"ab<mask>c</mask>\"[:2]"
   ]
  },
  {
   "cell_type": "code",
   "execution_count": null,
   "metadata": {},
   "outputs": [],
   "source": [
    "list(range(10,12))"
   ]
  },
  {
   "cell_type": "code",
   "execution_count": null,
   "metadata": {},
   "outputs": [],
   "source": [
    "n_mask = 2\n",
    "n_before =  2\n",
    "\"a b d c e\".split()[n_before:n_before+ n_mask]"
   ]
  },
  {
   "cell_type": "code",
   "execution_count": null,
   "metadata": {},
   "outputs": [],
   "source": [
    "list(range(n_before, n_before + n_mask))"
   ]
  },
  {
   "cell_type": "code",
   "execution_count": null,
   "metadata": {},
   "outputs": [],
   "source": [
    "\"a b d c e\".split()[3]"
   ]
  },
  {
   "cell_type": "code",
   "execution_count": null,
   "metadata": {},
   "outputs": [],
   "source": []
  }
 ],
 "metadata": {
  "kernelspec": {
   "display_name": "Python 3",
   "language": "python",
   "name": "python3"
  },
  "language_info": {
   "codemirror_mode": {
    "name": "ipython",
    "version": 3
   },
   "file_extension": ".py",
   "mimetype": "text/x-python",
   "name": "python",
   "nbconvert_exporter": "python",
   "pygments_lexer": "ipython3",
   "version": "3.7.3"
  }
 },
 "nbformat": 4,
 "nbformat_minor": 4
}
