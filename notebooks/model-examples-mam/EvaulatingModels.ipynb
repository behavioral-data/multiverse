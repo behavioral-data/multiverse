{
 "cells": [
  {
   "cell_type": "code",
   "execution_count": 2,
   "metadata": {},
   "outputs": [],
   "source": [
    "from src.models.CORAL_BART.dataset import KaggleDiffsReader, KaggleDiffsDataset\n",
    "from src.models.CORAL_BART.utils import block_shuffle\n",
    "from src.models.CORAL_BART.metrics import find_all_between_tags, calc_rouge_from_tokens,calc_span_aware_rouge, remove_ids\n",
    "\n",
    "from transformers import BartTokenizerFast\n",
    "from collections import Counter\n",
    "import os\n",
    "import json\n",
    "\n",
    "from rouge import Rouge\n",
    "\n",
    "import pandas as pd\n",
    "import seaborn as sns\n",
    "import numpy as np\n",
    "from matplotlib import pyplot as plt\n",
    "from sklearn.metrics import f1_score, roc_auc_score, precision_score, accuracy_score, recall_score\n",
    "from scipy.special import softmax\n",
    "\n",
    "from tqdm.auto import tqdm"
   ]
  },
  {
   "cell_type": "code",
   "execution_count": 3,
   "metadata": {},
   "outputs": [],
   "source": [
    "def load_jsonl(path):\n",
    "    data = []\n",
    "    with open(path) as f:\n",
    "        for line in f:\n",
    "            data.append(json.loads(line))\n",
    "    return data"
   ]
  },
  {
   "cell_type": "markdown",
   "metadata": {},
   "source": [
    "## Loading data as we do in the model:"
   ]
  },
  {
   "cell_type": "code",
   "execution_count": 4,
   "metadata": {},
   "outputs": [],
   "source": [
    "path_to_tokenizer = \"../../tokenizer\"\n",
    "vocab_path = os.path.join(path_to_tokenizer, \"vocab.json\")\n",
    "merges_path = os.path.join(path_to_tokenizer, \"merges.txt\")\n",
    "tokenizer = BartTokenizerFast(vocab_path, merges_path)"
   ]
  },
  {
   "cell_type": "code",
   "execution_count": 5,
   "metadata": {},
   "outputs": [
    {
     "name": "stderr",
     "output_type": "stream",
     "text": [
      "Loading Diffs: 69898it [00:03, 22364.44it/s]\n"
     ]
    }
   ],
   "source": [
    "data_reader = KaggleDiffsReader(\"/homes/gws/mikeam/RobustDataScience/data/processed/filtered_less_than_5_lines.jsonl\")"
   ]
  },
  {
   "cell_type": "code",
   "execution_count": 6,
   "metadata": {},
   "outputs": [],
   "source": [
    "#Using the same seed as the model:\n",
    "data_reader.diffs = block_shuffle(\n",
    "            data_reader.diffs, key_fn=lambda x: x[\"metadata\"][\"comp_name\"],\n",
    "            seed=421994)"
   ]
  },
  {
   "cell_type": "code",
   "execution_count": 7,
   "metadata": {},
   "outputs": [],
   "source": [
    "eval_fraction = 0.05\n",
    "base_dataset = KaggleDiffsDataset\n",
    "max_length= 128\n",
    "dataset_args = {\"predict_spans\": True,\n",
    "                \"p_mask_unchanged\": 0,\n",
    "                \"replace_inserted_tokens_in_output\": False}\n",
    "\n",
    "n_examples = len(data_reader)\n",
    "split_point = int(n_examples * (1 - eval_fraction))\n",
    "train_dataset = base_dataset(\n",
    "            data_reader.diffs[:split_point], tokenizer, max_length=max_length, **dataset_args)\n",
    "eval_set = base_dataset(\n",
    "            data_reader.diffs[split_point:], tokenizer, max_length=max_length, **dataset_args)"
   ]
  },
  {
   "cell_type": "markdown",
   "metadata": {},
   "source": [
    "## Get token counts in train dataset"
   ]
  },
  {
   "cell_type": "code",
   "execution_count": 8,
   "metadata": {},
   "outputs": [],
   "source": [
    "train_token_counts = Counter()\n",
    "for d in train_dataset:\n",
    "    train_token_counts.update(d[\"input_ids\"])\n",
    "    train_token_counts.update(d['decoder_input_ids'])"
   ]
  },
  {
   "cell_type": "code",
   "execution_count": 9,
   "metadata": {},
   "outputs": [],
   "source": [
    "inverse_token_rank = {k:i for i, (k,v) in enumerate(train_token_counts.most_common(len(train_token_counts))[::-1])}"
   ]
  },
  {
   "cell_type": "code",
   "execution_count": 10,
   "metadata": {},
   "outputs": [
    {
     "name": "stderr",
     "output_type": "stream",
     "text": [
      "/homes/gws/mikeam/anaconda3/envs/RobustDataScience/lib/python3.7/site-packages/seaborn/distributions.py:2551: FutureWarning: `distplot` is a deprecated function and will be removed in a future version. Please adapt your code to use either `displot` (a figure-level function with similar flexibility) or `histplot` (an axes-level function for histograms).\n",
      "  warnings.warn(msg, FutureWarning)\n"
     ]
    },
    {
     "data": {
      "text/plain": [
       "<AxesSubplot:ylabel='Density'>"
      ]
     },
     "execution_count": 10,
     "metadata": {},
     "output_type": "execute_result"
    },
    {
     "data": {
      "image/png": "[encoded data removed]",
      "text/plain": [
       "<Figure size 432x288 with 1 Axes>"
      ]
     },
     "metadata": {
      "needs_background": "light"
     },
     "output_type": "display_data"
    }
   ],
   "source": [
    "sns.distplot(list(train_token_counts.values()))"
   ]
  },
  {
   "cell_type": "markdown",
   "metadata": {},
   "source": [
    "## Load model results:"
   ]
  },
  {
   "cell_type": "code",
   "execution_count": 11,
   "metadata": {},
   "outputs": [],
   "source": [
    "FINAL_RESULTS_PATH = \"../../results/final/\"\n",
    "final_results = {\n",
    "    \"Graph Loss\":{\"file\":\"deluxe.jsonl\"},\n",
    "    \"No Graph Loss\":{\"file\":\"deluxe_no_graph.jsonl\"},\n",
    "    \"Seq2Seq Loss Only\":{\"file\":\"seq2seq.jsonl\"},\n",
    "    \"Oracle\" : {\"file\":\"deluxe_oracle.jsonl\"},\n",
    "    \"Span Loss Only\" : {\"file\":\"deluxe_span_loss_only.jsonl\"},\n",
    "    \"No SAD\" : {\"file\" : \"no_sad.jsonl\"},\n",
    "    \"Half Span Loss\": {\"file\":\"0.5_unchanged.jsonl\"}\n",
    "}"
   ]
  },
  {
   "cell_type": "code",
   "execution_count": 14,
   "metadata": {},
   "outputs": [
    {
     "data": {
      "application/vnd.jupyter.widget-view+json": {
       "model_id": "55800deac6974f479ff1e78f49569d1a",
       "version_major": 2,
       "version_minor": 0
      },
      "text/plain": [
       "HBox(children=(HTML(value=''), FloatProgress(value=0.0, max=7.0), HTML(value='')))"
      ]
     },
     "metadata": {},
     "output_type": "display_data"
    },
    {
     "name": "stdout",
     "output_type": "stream",
     "text": [
      "\n"
     ]
    }
   ],
   "source": [
    "for name, result in tqdm(final_results.items()):\n",
    "    eval_output = load_jsonl(os.path.join(FINAL_RESULTS_PATH,result[\"file\"]))\n",
    "    pred_ids = [x[\"pred\"] for x in eval_output]\n",
    "    label_ids = [x[\"label_ids\"] for x in eval_output]\n",
    "    \n",
    "    scores = {}\n",
    "    rouge_score = calc_rouge_from_tokens(pred_ids, label_ids, tokenizer)\n",
    "    final_results[name][\"rouge-l-p\"] = rouge_score[\"rouge-l\"][\"p\"]\n",
    "    final_results[name][\"rouge-l-f\"] = rouge_score[\"rouge-l\"][\"f\"]\n",
    "    final_results[name][\"rouge-l-r\"] = rouge_score[\"rouge-l\"][\"r\"]\n",
    "    \n",
    "    span_aware_rouge = calc_span_aware_rouge(pred_ids, label_ids, tokenizer)\n",
    "    final_results[name][\"span-rouge-l-p\"] = span_aware_rouge[\"rouge-l\"][\"p\"]\n",
    "    final_results[name][\"span-rouge-l-f\"] = span_aware_rouge[\"rouge-l\"][\"f\"]\n",
    "    final_results[name][\"span-rouge-l-r\"] = span_aware_rouge[\"rouge-l\"][\"r\"]\n",
    "    "
   ]
  },
  {
   "cell_type": "code",
   "execution_count": 18,
   "metadata": {},
   "outputs": [
    {
     "data": {
      "application/vnd.jupyter.widget-view+json": {
       "model_id": "a75bd2da41394a3eb4ee6898807681d0",
       "version_major": 2,
       "version_minor": 0
      },
      "text/plain": [
       "HBox(children=(HTML(value=''), FloatProgress(value=0.0, max=7.0), HTML(value='')))"
      ]
     },
     "metadata": {},
     "output_type": "display_data"
    },
    {
     "name": "stderr",
     "output_type": "stream",
     "text": [
      "/homes/gws/mikeam/anaconda3/envs/RobustDataScience/lib/python3.7/site-packages/sklearn/metrics/_classification.py:1221: UndefinedMetricWarning: Precision is ill-defined and being set to 0.0 due to no predicted samples. Use `zero_division` parameter to control this behavior.\n",
      "  _warn_prf(average, modifier, msg_start, len(result))\n",
      "/homes/gws/mikeam/anaconda3/envs/RobustDataScience/lib/python3.7/site-packages/numpy/core/fromnumeric.py:3373: RuntimeWarning: Mean of empty slice.\n",
      "  out=out, **kwargs)\n",
      "/homes/gws/mikeam/anaconda3/envs/RobustDataScience/lib/python3.7/site-packages/numpy/core/_methods.py:170: RuntimeWarning: invalid value encountered in double_scalars\n",
      "  ret = ret.dtype.type(ret / rcount)\n",
      "/homes/gws/mikeam/anaconda3/envs/RobustDataScience/lib/python3.7/site-packages/sklearn/metrics/_classification.py:1221: UndefinedMetricWarning: Precision is ill-defined and being set to 0.0 due to no predicted samples. Use `zero_division` parameter to control this behavior.\n",
      "  _warn_prf(average, modifier, msg_start, len(result))\n",
      "/homes/gws/mikeam/anaconda3/envs/RobustDataScience/lib/python3.7/site-packages/numpy/core/fromnumeric.py:3373: RuntimeWarning: Mean of empty slice.\n",
      "  out=out, **kwargs)\n",
      "/homes/gws/mikeam/anaconda3/envs/RobustDataScience/lib/python3.7/site-packages/numpy/core/_methods.py:170: RuntimeWarning: invalid value encountered in double_scalars\n",
      "  ret = ret.dtype.type(ret / rcount)\n",
      "/homes/gws/mikeam/anaconda3/envs/RobustDataScience/lib/python3.7/site-packages/sklearn/metrics/_classification.py:1221: UndefinedMetricWarning: Precision is ill-defined and being set to 0.0 due to no predicted samples. Use `zero_division` parameter to control this behavior.\n",
      "  _warn_prf(average, modifier, msg_start, len(result))\n",
      "/homes/gws/mikeam/anaconda3/envs/RobustDataScience/lib/python3.7/site-packages/numpy/core/fromnumeric.py:3373: RuntimeWarning: Mean of empty slice.\n",
      "  out=out, **kwargs)\n",
      "/homes/gws/mikeam/anaconda3/envs/RobustDataScience/lib/python3.7/site-packages/numpy/core/_methods.py:170: RuntimeWarning: invalid value encountered in double_scalars\n",
      "  ret = ret.dtype.type(ret / rcount)\n",
      "/homes/gws/mikeam/anaconda3/envs/RobustDataScience/lib/python3.7/site-packages/sklearn/metrics/_classification.py:1221: UndefinedMetricWarning: Precision is ill-defined and being set to 0.0 due to no predicted samples. Use `zero_division` parameter to control this behavior.\n",
      "  _warn_prf(average, modifier, msg_start, len(result))\n",
      "/homes/gws/mikeam/anaconda3/envs/RobustDataScience/lib/python3.7/site-packages/numpy/core/fromnumeric.py:3373: RuntimeWarning: Mean of empty slice.\n",
      "  out=out, **kwargs)\n",
      "/homes/gws/mikeam/anaconda3/envs/RobustDataScience/lib/python3.7/site-packages/numpy/core/_methods.py:170: RuntimeWarning: invalid value encountered in double_scalars\n",
      "  ret = ret.dtype.type(ret / rcount)\n",
      "/homes/gws/mikeam/anaconda3/envs/RobustDataScience/lib/python3.7/site-packages/sklearn/metrics/_classification.py:1221: UndefinedMetricWarning: Precision is ill-defined and being set to 0.0 due to no predicted samples. Use `zero_division` parameter to control this behavior.\n",
      "  _warn_prf(average, modifier, msg_start, len(result))\n",
      "/homes/gws/mikeam/anaconda3/envs/RobustDataScience/lib/python3.7/site-packages/numpy/core/fromnumeric.py:3373: RuntimeWarning: Mean of empty slice.\n",
      "  out=out, **kwargs)\n",
      "/homes/gws/mikeam/anaconda3/envs/RobustDataScience/lib/python3.7/site-packages/numpy/core/_methods.py:170: RuntimeWarning: invalid value encountered in double_scalars\n",
      "  ret = ret.dtype.type(ret / rcount)\n"
     ]
    },
    {
     "name": "stdout",
     "output_type": "stream",
     "text": [
      "\n"
     ]
    }
   ],
   "source": [
    "# RESULTS_PATH = \"../../results/mox-hyak/\"\n",
    "# results = {\n",
    "#     \"Graph Loss\":{\"file\":\"graph_loss_preds.jsonl\"},\n",
    "#     \"No Graph Loss\":{\"file\":\"no_graph_loss_preds.jsonl\"}\n",
    "# }\n",
    "\n",
    "start_token = 52000\n",
    "end_token = 52001\n",
    "\n",
    "#Load Data\n",
    "for name, result in tqdm(final_results.items()):\n",
    "    eval_output = load_jsonl(os.path.join(FINAL_RESULTS_PATH,result[\"file\"]))\n",
    "    \n",
    "    if name not in [\"Seq2Seq Loss Only\", \"Oracle\"]:\n",
    "        y_true = np.concatenate([x['classification_labels'] for x in eval_output])\n",
    "        mask = y_true!= -100\n",
    "        \n",
    "        y_true = y_true[mask]\n",
    "        y_prob = softmax(np.concatenate([x[\"classification_logits\"] for x in eval_output])[:,-1])[mask]\n",
    "        \n",
    "        y_pred = (y_prob > 0.15).astype(int)\n",
    "        \n",
    "        final_results[name][\"f1_score\"] = f1_score(y_true,y_pred)\n",
    "        final_results[name][\"precision\"] = precision_score(y_true,y_pred)\n",
    "        final_results[name][\"accuracy\"] = accuracy_score(y_true,y_pred)\n",
    "        final_results[name][\"recall\"] = recall_score(y_true,y_pred)\n",
    "        final_results[name][\"roc_auc\"]= roc_auc_score(y_true,y_prob)\n",
    "        \n",
    "    for data in eval_output:\n",
    "        pred = data[\"pred\"]\n",
    "        label = data[\"label_ids\"]\n",
    "        span_aware_rouge = calc_span_aware_rouge([pred], [label], tokenizer)\n",
    "        \n",
    "        data[\"pred_span\"] = list(find_all_between_tags(pred,start_token,end_token))\n",
    "        data[\"label_span\"] = list(find_all_between_tags(label,start_token,end_token))\n",
    "        \n",
    "        data[\"pred_span\"] = [item for sublist in data[\"pred_span\"] for item in sublist]\n",
    "        data[\"label_span\"] = [item for sublist in data[\"label_span\"] for item in sublist]\n",
    "        \n",
    "        data[\"span_rouge_l_f\"] = span_aware_rouge[\"rouge-l\"][\"f\"]\n",
    "        data[\"span_rouge_l_p\"] = span_aware_rouge[\"rouge-l\"][\"p\"]\n",
    "        data[\"span_rouge_l_r\"] = span_aware_rouge[\"rouge-l\"][\"r\"]\n",
    "        \n",
    "        \n",
    "        rouge_score = calc_rouge_from_tokens([pred],[label],tokenizer)\n",
    "        data[\"rouge-l-p\"] = rouge_score[\"rouge-l\"][\"p\"]\n",
    "        data[\"rouge-l-f\"] = rouge_score[\"rouge-l\"][\"f\"]\n",
    "        data[\"rouge-l-r\"] = rouge_score[\"rouge-l\"][\"r\"]\n",
    "        \n",
    "        data[\"avg_inverse_label_token_rank\"] = np.mean([inverse_token_rank.get(x,0) for x in data[\"label_span\"]])\n",
    "        data[\"avg_label_token_count\"] = np.mean([train_token_counts.get(x,0) for x in data[\"label_span\"]])\n",
    "        \n",
    "        data[\"label_unseen_tokens\"] = [x for x in data[\"label_span\"] if train_token_counts.get(x,0) == 0]\n",
    "        data[\"pred_unseen_tokens\"] = [x  for x in data[\"pred_span\"] if train_token_counts.get(x,0) == 0]\n",
    "        data[\"label_contains_unseen\"] = len(data[\"label_unseen_tokens\"]) > 0 \n",
    "        data[\"pred_contains_unseen\"] = len(data[\"pred_unseen_tokens\"]) > 0 \n",
    "        \n",
    "        data[\"unseen_in_both\"] = set(data[\"label_unseen_tokens\"]).intersection(set(data[\"pred_unseen_tokens\"]))\n",
    "        data[\"unseen_in_label_and_pred\"] = len(data[\"unseen_in_both\"]) > 0\n",
    "    \n",
    "    final_results[name][\"eval_output\"] = eval_output"
   ]
  },
  {
   "cell_type": "code",
   "execution_count": null,
   "metadata": {},
   "outputs": [],
   "source": [
    "print(final_results[\"Graph Loss\"][\"eval_output\"][0])"
   ]
  },
  {
   "cell_type": "markdown",
   "metadata": {},
   "source": [
    "## Put all results in one DataFrame for plotting"
   ]
  },
  {
   "cell_type": "code",
   "execution_count": null,
   "metadata": {},
   "outputs": [],
   "source": [
    "all_results = []\n",
    "for name, result in final_results.items():\n",
    "    print(name)\n",
    "    eval_output = final_results[name][\"eval_output\"]\n",
    "    all_results.extend([{**{\"Model Name\":name}, **x} for x in eval_output])\n",
    "all_results = pd.DataFrame(all_results)"
   ]
  },
  {
   "cell_type": "code",
   "execution_count": null,
   "metadata": {},
   "outputs": [],
   "source": [
    "all_results[\"Model Name\"].value_counts()"
   ]
  },
  {
   "cell_type": "code",
   "execution_count": null,
   "metadata": {},
   "outputs": [],
   "source": [
    "sns.kdeplot(x=\"avg_inverse_label_token_rank\", y=\"span_rouge_l_f\",\n",
    "            data = all_results.dropna(), hue=\"Model Name\")"
   ]
  },
  {
   "cell_type": "code",
   "execution_count": null,
   "metadata": {},
   "outputs": [],
   "source": [
    "sns.kdeplot(x=\"avg_label_token_count\", y=\"span_rouge_l_f\",\n",
    "            data = all_results.dropna(), hue=\"Model Name\")"
   ]
  },
  {
   "cell_type": "code",
   "execution_count": null,
   "metadata": {},
   "outputs": [],
   "source": [
    "all_results.groupby([\"Model Name\",\"label_contains_unseen\"])[[\"rouge-l-f\",\"rouge-l-p\",\"rouge-l-r\",\"span_rouge_l_p\",\"span_rouge_l_r\",\"span_rouge_l_f\"]].mean()"
   ]
  },
  {
   "cell_type": "code",
   "execution_count": null,
   "metadata": {},
   "outputs": [],
   "source": [
    "for name, result in tqdm(final_results.items()):\n",
    "    eval_output = load_jsonl(os.path.join(FINAL_RESULTS_PATH,result[\"file\"]))\n",
    "    \n",
    "    if name not in [\"Seq2Seq Loss Only\", \"Oracle\"]:\n",
    "        y_true = np.concatenate([x['classification_labels'] for x in eval_output])\n",
    "        mask = y_true!= -100\n",
    "        \n",
    "        y_true = y_true[mask]\n",
    "        y_prob = softmax(np.concatenate([x[\"classification_logits\"] for x in eval_output]),axis=1)[:,-1][mask]\n",
    "        \n",
    "        y_pred = (y_prob > 0.15).astype(int)\n",
    "#         print(y_pred)\n",
    "#         import ipdb; ipdb.set_trace()\n",
    "        final_results[name][\"f1_score\"] = f1_score(y_true,y_pred)\n",
    "        final_results[name][\"precision\"] = precision_score(y_true,y_pred)\n",
    "        final_results[name][\"accuracy\"] = accuracy_score(y_true,y_pred)\n",
    "        final_results[name][\"recall\"] = recall_score(y_true,y_pred)\n",
    "        final_results[name][\"roc_auc\"]= roc_auc_score(y_true,y_prob)\n",
    "\n",
    "all_results.groupby([\"Model Name\"])[[\"rouge-l-p\",\"rouge-l-r\",\"rouge-l-f\",\"span_rouge_l_p\",\"span_rouge_l_r\",\"span_rouge_l_f\"]].mean()"
   ]
  },
  {
   "cell_type": "markdown",
   "metadata": {},
   "source": [
    "## Classification "
   ]
  },
  {
   "cell_type": "code",
   "execution_count": null,
   "metadata": {},
   "outputs": [],
   "source": [
    "class_results = []\n",
    "for name in final_results.keys():\n",
    "    model_class_results = {}\n",
    "    model_class_results[\"Model Name\"] = name\n",
    "    model_class_results[\"f1_score\"]  = final_results[name].get(\"f1_score\" )\n",
    "    model_class_results[\"precision\"] = final_results[name].get(\"precision\")\n",
    "    model_class_results[\"accuracy\"]  = final_results[name].get(\"accuracy\")\n",
    "    model_class_results[\"recall\"]  = final_results[name].get(\"recall\")\n",
    "    model_class_results[\"roc_auc\"] = final_results[name].get(\"roc_auc\")\n",
    "    class_results.append(model_class_results)\n",
    "class_results = pd.DataFrame(class_results)"
   ]
  },
  {
   "cell_type": "code",
   "execution_count": null,
   "metadata": {},
   "outputs": [],
   "source": [
    "class_results"
   ]
  },
  {
   "cell_type": "markdown",
   "metadata": {},
   "source": [
    "## Examples\n",
    "Pull out some examples to use for our random evaluation"
   ]
  },
  {
   "cell_type": "code",
   "execution_count": 2,
   "metadata": {},
   "outputs": [
    {
     "ename": "NameError",
     "evalue": "name 'all_results' is not defined",
     "output_type": "error",
     "traceback": [
      "\u001b[0;31m---------------------------------------------------------------------------\u001b[0m",
      "\u001b[0;31mNameError\u001b[0m                                 Traceback (most recent call last)",
      "\u001b[0;32m<ipython-input-2-4464c10d2833>\u001b[0m in \u001b[0;36m<module>\u001b[0;34m()\u001b[0m\n\u001b[0;32m----> 1\u001b[0;31m \u001b[0mresults_our_model\u001b[0m \u001b[0;34m=\u001b[0m \u001b[0mall_results\u001b[0m\u001b[0;34m[\u001b[0m\u001b[0mall_results\u001b[0m\u001b[0;34m[\u001b[0m\u001b[0;34m\"Model Name\"\u001b[0m\u001b[0;34m]\u001b[0m \u001b[0;34m==\u001b[0m \u001b[0;34m\"Graph Loss\"\u001b[0m\u001b[0;34m]\u001b[0m\u001b[0;34m\u001b[0m\u001b[0;34m\u001b[0m\u001b[0m\n\u001b[0m",
      "\u001b[0;31mNameError\u001b[0m: name 'all_results' is not defined"
     ]
    }
   ],
   "source": [
    "results_our_model = all_results[all_results[\"Model Name\"] == \"Graph Loss\"]"
   ]
  },
  {
   "cell_type": "code",
   "execution_count": null,
   "metadata": {},
   "outputs": [],
   "source": [
    "def display_sample(df):\n",
    "    for index, row in df.iterrows():\n",
    "        print(\"-\"*20 + \"Input\" +\"-\"*20 )\n",
    "        print(row[\"input\"])\n",
    "        print(\"-\"*20 + \"Label\" +\"-\"*20 )\n",
    "        print(row[\"label\"])\n",
    "        print(\"-\"*20 + \"Pred\" +\"-\"*20 )\n",
    "        print(row[\"prediction\"])"
   ]
  },
  {
   "cell_type": "code",
   "execution_count": null,
   "metadata": {},
   "outputs": [],
   "source": [
    "disply_sample(results_our_model.sample())"
   ]
  },
  {
   "cell_type": "code",
   "execution_count": null,
   "metadata": {},
   "outputs": [],
   "source": [
    "\n",
    "disply_sample(results_our_model.sample())"
   ]
  },
  {
   "cell_type": "code",
   "execution_count": null,
   "metadata": {},
   "outputs": [],
   "source": [
    "disply_sample(results_our_model[results_our_model[\"prediction\"].str.contains(\"entropy\")].sample())"
   ]
  },
  {
   "cell_type": "code",
   "execution_count": 1,
   "metadata": {},
   "outputs": [
    {
     "ename": "NameError",
     "evalue": "name 'results_our_model' is not defined",
     "output_type": "error",
     "traceback": [
      "\u001b[0;31m---------------------------------------------------------------------------\u001b[0m",
      "\u001b[0;31mNameError\u001b[0m                                 Traceback (most recent call last)",
      "\u001b[0;32m<ipython-input-1-160591723a2a>\u001b[0m in \u001b[0;36m<module>\u001b[0;34m()\u001b[0m\n\u001b[0;32m----> 1\u001b[0;31m \u001b[0mprint\u001b[0m\u001b[0;34m(\u001b[0m\u001b[0mresults_our_model\u001b[0m\u001b[0;34m.\u001b[0m\u001b[0miloc\u001b[0m\u001b[0;34m[\u001b[0m\u001b[0;36m47\u001b[0m\u001b[0;34m]\u001b[0m\u001b[0;34m[\u001b[0m\u001b[0;34m\"label\"\u001b[0m\u001b[0;34m]\u001b[0m\u001b[0;34m)\u001b[0m\u001b[0;34m\u001b[0m\u001b[0;34m\u001b[0m\u001b[0m\n\u001b[0m",
      "\u001b[0;31mNameError\u001b[0m: name 'results_our_model' is not defined"
     ]
    }
   ],
   "source": [
    "print(results_our_model.iloc[47][\"label\"])"
   ]
  },
  {
   "cell_type": "code",
   "execution_count": null,
   "metadata": {},
   "outputs": [],
   "source": [
    "print(results_our_model.iloc[47][\"prediction\"])"
   ]
  },
  {
   "cell_type": "code",
   "execution_count": null,
   "metadata": {},
   "outputs": [],
   "source": [
    "print(results_our_model.iloc[47][\"input\"])"
   ]
  },
  {
   "cell_type": "code",
   "execution_count": null,
   "metadata": {},
   "outputs": [],
   "source": [
    "print(results_our_model.iloc[956][\"label\"])"
   ]
  },
  {
   "cell_type": "code",
   "execution_count": null,
   "metadata": {},
   "outputs": [],
   "source": [
    "print(results_our_model.iloc[956][\"prediction\"])"
   ]
  },
  {
   "cell_type": "code",
   "execution_count": null,
   "metadata": {},
   "outputs": [],
   "source": [
    "results_our_model[results_our_model[\"prediction\"].str.contains(\">\")].sample(10)"
   ]
  },
  {
   "cell_type": "code",
   "execution_count": null,
   "metadata": {},
   "outputs": [],
   "source": [
    "print(results_our_model.iloc[1780][\"input\"])"
   ]
  },
  {
   "cell_type": "code",
   "execution_count": null,
   "metadata": {},
   "outputs": [],
   "source": [
    "print(results_our_model.iloc[1780][\"label\"])"
   ]
  },
  {
   "cell_type": "code",
   "execution_count": null,
   "metadata": {},
   "outputs": [],
   "source": [
    "print(results_our_model.iloc[1780][\"prediction\"])"
   ]
  },
  {
   "cell_type": "code",
   "execution_count": null,
   "metadata": {},
   "outputs": [],
   "source": []
  }
 ],
 "metadata": {
  "kernelspec": {
   "display_name": "Python 3.8.2 64-bit ('RobustDataScience': conda)",
   "language": "python",
   "name": "python38264bitrobustdatasciencecondaff3daa7a14f54e6fb30e1fe30261bdb5"
  },
  "language_info": {
   "codemirror_mode": {
    "name": "ipython",
    "version": 3
   },
   "file_extension": ".py",
   "mimetype": "text/x-python",
   "name": "python",
   "nbconvert_exporter": "python",
   "pygments_lexer": "ipython3",
   "version": "3.7.8"
  }
 },
 "nbformat": 4,
 "nbformat_minor": 4
}
