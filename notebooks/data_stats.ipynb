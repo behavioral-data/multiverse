{
 "cells": [
  {
   "cell_type": "code",
   "execution_count": 32,
   "metadata": {},
   "outputs": [],
   "source": [
    "import os\n",
    "from glob import glob\n",
    "import pandas as pd"
   ]
  },
  {
   "cell_type": "markdown",
   "metadata": {},
   "source": [
    "## How many users? "
   ]
  },
  {
   "cell_type": "code",
   "execution_count": 2,
   "metadata": {},
   "outputs": [],
   "source": [
    "DATA_PATH = \"../data/processed/competitions/\""
   ]
  },
  {
   "cell_type": "code",
   "execution_count": 22,
   "metadata": {},
   "outputs": [
    {
     "name": "stdout",
     "output_type": "stream",
     "text": [
      "28694784.json  28695638.json  version_metadata.csv\n"
     ]
    }
   ],
   "source": [
    "ls $DATA_PATH/allstate-purchase-prediction-challenge/caoyi41/ "
   ]
  },
  {
   "cell_type": "code",
   "execution_count": 5,
   "metadata": {},
   "outputs": [
    {
     "name": "stdout",
     "output_type": "stream",
     "text": [
      "404\n"
     ]
    }
   ],
   "source": [
    "ls $DATA_PATH/ | wc -l"
   ]
  },
  {
   "cell_type": "code",
   "execution_count": 30,
   "metadata": {},
   "outputs": [
    {
     "data": {
      "text/plain": [
       "48535"
      ]
     },
     "execution_count": 30,
     "metadata": {},
     "output_type": "execute_result"
    }
   ],
   "source": [
    "user_submissions = glob(os.path.join(DATA_PATH,\"**\",\"*\"))\n",
    "len(user_submissions)"
   ]
  },
  {
   "cell_type": "markdown",
   "metadata": {},
   "source": [
    "## How many submissions? "
   ]
  },
  {
   "cell_type": "code",
   "execution_count": 29,
   "metadata": {},
   "outputs": [
    {
     "data": {
      "text/plain": [
       "450695"
      ]
     },
     "execution_count": 29,
     "metadata": {},
     "output_type": "execute_result"
    }
   ],
   "source": [
    "notebooks = glob(os.path.join(DATA_PATH,\"**\",\"**\",\"*.json\"))\n",
    "len(notebooks)"
   ]
  },
  {
   "cell_type": "code",
   "execution_count": 31,
   "metadata": {},
   "outputs": [
    {
     "data": {
      "text/plain": [
       "9.285979190275059"
      ]
     },
     "execution_count": 31,
     "metadata": {},
     "output_type": "execute_result"
    }
   ],
   "source": [
    "450695 / 48535"
   ]
  },
  {
   "cell_type": "markdown",
   "metadata": {},
   "source": [
    "## What about in the final dataset?"
   ]
  },
  {
   "cell_type": "code",
   "execution_count": 44,
   "metadata": {},
   "outputs": [],
   "source": [
    "diffs = pd.read_json(\"../data/processed/filtered_less_than_5_lines.jsonl\", lines=True)\\\n",
    "           .to_dict(\"records\")\n",
    "diffs = pd.json_normalize(diffs)"
   ]
  },
  {
   "cell_type": "code",
   "execution_count": 49,
   "metadata": {},
   "outputs": [
    {
     "data": {
      "text/html": [
       "<div>\n",
       "<style scoped>\n",
       "    .dataframe tbody tr th:only-of-type {\n",
       "        vertical-align: middle;\n",
       "    }\n",
       "\n",
       "    .dataframe tbody tr th {\n",
       "        vertical-align: top;\n",
       "    }\n",
       "\n",
       "    .dataframe thead th {\n",
       "        text-align: right;\n",
       "    }\n",
       "</style>\n",
       "<table border=\"1\" class=\"dataframe\">\n",
       "  <thead>\n",
       "    <tr style=\"text-align: right;\">\n",
       "      <th></th>\n",
       "      <th>original_path</th>\n",
       "      <th>cell_diff</th>\n",
       "      <th>metadata.version_id</th>\n",
       "      <th>metadata.slug_id</th>\n",
       "      <th>metadata.comp_name</th>\n",
       "    </tr>\n",
       "  </thead>\n",
       "  <tbody>\n",
       "    <tr>\n",
       "      <th>0</th>\n",
       "      <td>data/processed/competitions/bluebook-for-bulld...</td>\n",
       "      <td>n_valid = 12000\\n-n_trn = len(df) - n_valid\\n+...</td>\n",
       "      <td>16033940</td>\n",
       "      <td>gstvolvr</td>\n",
       "      <td>bluebook-for-bulldozers</td>\n",
       "    </tr>\n",
       "    <tr>\n",
       "      <th>1</th>\n",
       "      <td>data/processed/competitions/liberty-mutual-gro...</td>\n",
       "      <td># Uncomment the two lines below to roughly che...</td>\n",
       "      <td>443427</td>\n",
       "      <td>aarotang</td>\n",
       "      <td>liberty-mutual-group-property-inspection-predi...</td>\n",
       "    </tr>\n",
       "    <tr>\n",
       "      <th>2</th>\n",
       "      <td>data/processed/competitions/cdiscount-image-cl...</td>\n",
       "      <td>-input_tensor = Input(shape=(180, 180, 3))\\n+i...</td>\n",
       "      <td>1530168</td>\n",
       "      <td>jpizarrom</td>\n",
       "      <td>cdiscount-image-classification-challenge</td>\n",
       "    </tr>\n",
       "    <tr>\n",
       "      <th>3</th>\n",
       "      <td>data/processed/competitions/cdiscount-image-cl...</td>\n",
       "      <td># create the base pre-trained model\\n #base_mo...</td>\n",
       "      <td>1530168</td>\n",
       "      <td>jpizarrom</td>\n",
       "      <td>cdiscount-image-classification-challenge</td>\n",
       "    </tr>\n",
       "    <tr>\n",
       "      <th>4</th>\n",
       "      <td>data/processed/competitions/cdiscount-image-cl...</td>\n",
       "      <td>-num_images_test = 10\\n+num_images_test = 1000...</td>\n",
       "      <td>1530168</td>\n",
       "      <td>jpizarrom</td>\n",
       "      <td>cdiscount-image-classification-challenge</td>\n",
       "    </tr>\n",
       "  </tbody>\n",
       "</table>\n",
       "</div>"
      ],
      "text/plain": [
       "                                       original_path  \\\n",
       "0  data/processed/competitions/bluebook-for-bulld...   \n",
       "1  data/processed/competitions/liberty-mutual-gro...   \n",
       "2  data/processed/competitions/cdiscount-image-cl...   \n",
       "3  data/processed/competitions/cdiscount-image-cl...   \n",
       "4  data/processed/competitions/cdiscount-image-cl...   \n",
       "\n",
       "                                           cell_diff metadata.version_id  \\\n",
       "0  n_valid = 12000\\n-n_trn = len(df) - n_valid\\n+...            16033940   \n",
       "1  # Uncomment the two lines below to roughly che...              443427   \n",
       "2  -input_tensor = Input(shape=(180, 180, 3))\\n+i...             1530168   \n",
       "3  # create the base pre-trained model\\n #base_mo...             1530168   \n",
       "4  -num_images_test = 10\\n+num_images_test = 1000...             1530168   \n",
       "\n",
       "  metadata.slug_id                                 metadata.comp_name  \n",
       "0         gstvolvr                            bluebook-for-bulldozers  \n",
       "1         aarotang  liberty-mutual-group-property-inspection-predi...  \n",
       "2        jpizarrom           cdiscount-image-classification-challenge  \n",
       "3        jpizarrom           cdiscount-image-classification-challenge  \n",
       "4        jpizarrom           cdiscount-image-classification-challenge  "
      ]
     },
     "execution_count": 49,
     "metadata": {},
     "output_type": "execute_result"
    }
   ],
   "source": [
    "diffs.head()"
   ]
  },
  {
   "cell_type": "code",
   "execution_count": 48,
   "metadata": {},
   "outputs": [
    {
     "data": {
      "text/plain": [
       "40523"
      ]
     },
     "execution_count": 48,
     "metadata": {},
     "output_type": "execute_result"
    }
   ],
   "source": [
    "len(diffs.groupby(\"metadata.version_id\"))"
   ]
  },
  {
   "cell_type": "code",
   "execution_count": 51,
   "metadata": {},
   "outputs": [
    {
     "data": {
      "text/plain": [
       "11644"
      ]
     },
     "execution_count": 51,
     "metadata": {},
     "output_type": "execute_result"
    }
   ],
   "source": [
    "len(diffs.groupby([\"metadata.comp_name\",\"metadata.slug_id\"]))"
   ]
  },
  {
   "cell_type": "code",
   "execution_count": null,
   "metadata": {},
   "outputs": [],
   "source": []
  }
 ],
 "metadata": {
  "kernelspec": {
   "display_name": "Python 3",
   "language": "python",
   "name": "python3"
  },
  "language_info": {
   "codemirror_mode": {
    "name": "ipython",
    "version": 3
   },
   "file_extension": ".py",
   "mimetype": "text/x-python",
   "name": "python",
   "nbconvert_exporter": "python",
   "pygments_lexer": "ipython3",
   "version": "3.7.8"
  }
 },
 "nbformat": 4,
 "nbformat_minor": 4
}
