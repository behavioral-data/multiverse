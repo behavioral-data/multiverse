{
 "cells": [
  {
   "cell_type": "markdown",
   "metadata": {},
   "source": [
    "# Top Kaggle Libraries\n",
    "Which libraries are used in Kaggle submissions?"
   ]
  },
  {
   "cell_type": "code",
   "execution_count": 140,
   "metadata": {},
   "outputs": [],
   "source": [
    "from src.data.utils import *\n",
    "from glob import glob\n",
    "from tqdm.notebook import tqdm\n",
    "from collections import Counter\n",
    "import dis\n",
    "\n",
    "import pandas as pd\n",
    "import re\n",
    "import warnings\n",
    "warnings.filterwarnings('ignore')"
   ]
  },
  {
   "cell_type": "code",
   "execution_count": 6,
   "metadata": {},
   "outputs": [],
   "source": [
    "kaggle_competitions = glob(\"/projects/bdata/datasets/kaggle-competitions/raw/*/\")"
   ]
  },
  {
   "cell_type": "code",
   "execution_count": 34,
   "metadata": {},
   "outputs": [],
   "source": [
    "def get_slug_imports(versions):\n",
    "    slug_imports = set()\n",
    "    for version in versions:\n",
    "        for cell in version[\"cells\"]:\n",
    "            if cell[\"cell_type\"] == \"code\":\n",
    "                try:\n",
    "                    instructions = dis.get_instructions(cell[\"source\"])\n",
    "                except (SyntaxError, TypeError):\n",
    "                    continue\n",
    "                imports = [__.argval for __ in instructions if 'IMPORT_NAME' in __.opname]\n",
    "                slug_imports = slug_imports.union(set(imports))\n",
    "    return slug_imports"
   ]
  },
  {
   "cell_type": "code",
   "execution_count": 37,
   "metadata": {},
   "outputs": [
    {
     "data": {
      "application/vnd.jupyter.widget-view+json": {
       "model_id": "6695890b5511486ba81debf99a0698a2",
       "version_major": 2,
       "version_minor": 0
      },
      "text/plain": [
       "HBox(children=(FloatProgress(value=0.0, max=404.0), HTML(value='')))"
      ]
     },
     "metadata": {},
     "output_type": "display_data"
    },
    {
     "name": "stdout",
     "output_type": "stream",
     "text": [
      "\n"
     ]
    }
   ],
   "source": [
    "library_counts = Counter()\n",
    "for competition in tqdm(kaggle_competitions):\n",
    "    comp_reader = CompetitionReader(competition)\n",
    "    slug_imports = comp_reader.apply_to_slugs(get_slug_imports)\n",
    "    [library_counts.update(x) for x in slug_imports]"
   ]
  },
  {
   "cell_type": "code",
   "execution_count": 41,
   "metadata": {},
   "outputs": [
    {
     "data": {
      "text/plain": [
       "[('numpy', 12442),\n",
       " ('pandas', 12439),\n",
       " ('os', 9171),\n",
       " ('matplotlib.pyplot', 7092),\n",
       " ('sklearn.model_selection', 6130),\n",
       " ('sklearn.metrics', 4561),\n",
       " ('seaborn', 4103),\n",
       " ('sklearn.preprocessing', 3255),\n",
       " ('sklearn', 2570),\n",
       " ('sklearn.ensemble', 2527)]"
      ]
     },
     "execution_count": 41,
     "metadata": {},
     "output_type": "execute_result"
    }
   ],
   "source": [
    "library_counts.most_common(10)"
   ]
  },
  {
   "cell_type": "code",
   "execution_count": 42,
   "metadata": {},
   "outputs": [],
   "source": [
    "base_lib_counts = Counter()\n",
    "for k, v in library_counts.items():\n",
    "    base_lib_counts.update([k.split(\".\")[0]] * v)"
   ]
  },
  {
   "cell_type": "code",
   "execution_count": 51,
   "metadata": {},
   "outputs": [],
   "source": [
    "base_lib_counts = pd.DataFrame(base_lib_counts.most_common(50), columns = [\"library\",\"slug_count\"])"
   ]
  },
  {
   "cell_type": "code",
   "execution_count": 52,
   "metadata": {},
   "outputs": [
    {
     "data": {
      "text/html": [
       "<div>\n",
       "<style scoped>\n",
       "    .dataframe tbody tr th:only-of-type {\n",
       "        vertical-align: middle;\n",
       "    }\n",
       "\n",
       "    .dataframe tbody tr th {\n",
       "        vertical-align: top;\n",
       "    }\n",
       "\n",
       "    .dataframe thead th {\n",
       "        text-align: right;\n",
       "    }\n",
       "</style>\n",
       "<table border=\"1\" class=\"dataframe\">\n",
       "  <thead>\n",
       "    <tr style=\"text-align: right;\">\n",
       "      <th></th>\n",
       "      <th>library</th>\n",
       "      <th>slug_count</th>\n",
       "    </tr>\n",
       "  </thead>\n",
       "  <tbody>\n",
       "    <tr>\n",
       "      <th>0</th>\n",
       "      <td>sklearn</td>\n",
       "      <td>29947</td>\n",
       "    </tr>\n",
       "    <tr>\n",
       "      <th>1</th>\n",
       "      <td>keras</td>\n",
       "      <td>15364</td>\n",
       "    </tr>\n",
       "    <tr>\n",
       "      <th>2</th>\n",
       "      <td>pandas</td>\n",
       "      <td>12696</td>\n",
       "    </tr>\n",
       "    <tr>\n",
       "      <th>3</th>\n",
       "      <td>numpy</td>\n",
       "      <td>12556</td>\n",
       "    </tr>\n",
       "    <tr>\n",
       "      <th>4</th>\n",
       "      <td>matplotlib</td>\n",
       "      <td>9414</td>\n",
       "    </tr>\n",
       "    <tr>\n",
       "      <th>5</th>\n",
       "      <td>os</td>\n",
       "      <td>9349</td>\n",
       "    </tr>\n",
       "    <tr>\n",
       "      <th>6</th>\n",
       "      <td>tensorflow</td>\n",
       "      <td>5009</td>\n",
       "    </tr>\n",
       "    <tr>\n",
       "      <th>7</th>\n",
       "      <td>seaborn</td>\n",
       "      <td>4103</td>\n",
       "    </tr>\n",
       "    <tr>\n",
       "      <th>8</th>\n",
       "      <td>torch</td>\n",
       "      <td>3667</td>\n",
       "    </tr>\n",
       "    <tr>\n",
       "      <th>9</th>\n",
       "      <td>scipy</td>\n",
       "      <td>2501</td>\n",
       "    </tr>\n",
       "    <tr>\n",
       "      <th>10</th>\n",
       "      <td>tqdm</td>\n",
       "      <td>2487</td>\n",
       "    </tr>\n",
       "    <tr>\n",
       "      <th>11</th>\n",
       "      <td>plotly</td>\n",
       "      <td>2387</td>\n",
       "    </tr>\n",
       "    <tr>\n",
       "      <th>12</th>\n",
       "      <td>warnings</td>\n",
       "      <td>2181</td>\n",
       "    </tr>\n",
       "    <tr>\n",
       "      <th>13</th>\n",
       "      <td>nltk</td>\n",
       "      <td>2131</td>\n",
       "    </tr>\n",
       "    <tr>\n",
       "      <th>14</th>\n",
       "      <td>xgboost</td>\n",
       "      <td>1797</td>\n",
       "    </tr>\n",
       "    <tr>\n",
       "      <th>15</th>\n",
       "      <td>gc</td>\n",
       "      <td>1769</td>\n",
       "    </tr>\n",
       "    <tr>\n",
       "      <th>16</th>\n",
       "      <td>time</td>\n",
       "      <td>1738</td>\n",
       "    </tr>\n",
       "    <tr>\n",
       "      <th>17</th>\n",
       "      <td>random</td>\n",
       "      <td>1702</td>\n",
       "    </tr>\n",
       "    <tr>\n",
       "      <th>18</th>\n",
       "      <td>lightgbm</td>\n",
       "      <td>1567</td>\n",
       "    </tr>\n",
       "    <tr>\n",
       "      <th>19</th>\n",
       "      <td>math</td>\n",
       "      <td>1427</td>\n",
       "    </tr>\n",
       "    <tr>\n",
       "      <th>20</th>\n",
       "      <td>fastai</td>\n",
       "      <td>1426</td>\n",
       "    </tr>\n",
       "    <tr>\n",
       "      <th>21</th>\n",
       "      <td>datetime</td>\n",
       "      <td>1402</td>\n",
       "    </tr>\n",
       "    <tr>\n",
       "      <th>22</th>\n",
       "      <td>cv2</td>\n",
       "      <td>1398</td>\n",
       "    </tr>\n",
       "    <tr>\n",
       "      <th>23</th>\n",
       "      <td>re</td>\n",
       "      <td>1332</td>\n",
       "    </tr>\n",
       "    <tr>\n",
       "      <th>24</th>\n",
       "      <td>IPython</td>\n",
       "      <td>1328</td>\n",
       "    </tr>\n",
       "    <tr>\n",
       "      <th>25</th>\n",
       "      <td>skimage</td>\n",
       "      <td>1176</td>\n",
       "    </tr>\n",
       "    <tr>\n",
       "      <th>26</th>\n",
       "      <td>PIL</td>\n",
       "      <td>1085</td>\n",
       "    </tr>\n",
       "    <tr>\n",
       "      <th>27</th>\n",
       "      <td>collections</td>\n",
       "      <td>984</td>\n",
       "    </tr>\n",
       "    <tr>\n",
       "      <th>28</th>\n",
       "      <td>subprocess</td>\n",
       "      <td>979</td>\n",
       "    </tr>\n",
       "    <tr>\n",
       "      <th>29</th>\n",
       "      <td>sys</td>\n",
       "      <td>951</td>\n",
       "    </tr>\n",
       "    <tr>\n",
       "      <th>30</th>\n",
       "      <td>torchvision</td>\n",
       "      <td>850</td>\n",
       "    </tr>\n",
       "    <tr>\n",
       "      <th>31</th>\n",
       "      <td>glob</td>\n",
       "      <td>757</td>\n",
       "    </tr>\n",
       "    <tr>\n",
       "      <th>32</th>\n",
       "      <td>json</td>\n",
       "      <td>690</td>\n",
       "    </tr>\n",
       "    <tr>\n",
       "      <th>33</th>\n",
       "      <td>statsmodels</td>\n",
       "      <td>620</td>\n",
       "    </tr>\n",
       "    <tr>\n",
       "      <th>34</th>\n",
       "      <td>itertools</td>\n",
       "      <td>611</td>\n",
       "    </tr>\n",
       "    <tr>\n",
       "      <th>35</th>\n",
       "      <td>pickle</td>\n",
       "      <td>498</td>\n",
       "    </tr>\n",
       "    <tr>\n",
       "      <th>36</th>\n",
       "      <td>gensim</td>\n",
       "      <td>496</td>\n",
       "    </tr>\n",
       "    <tr>\n",
       "      <th>37</th>\n",
       "      <td>pathlib</td>\n",
       "      <td>480</td>\n",
       "    </tr>\n",
       "    <tr>\n",
       "      <th>38</th>\n",
       "      <td>string</td>\n",
       "      <td>461</td>\n",
       "    </tr>\n",
       "    <tr>\n",
       "      <th>39</th>\n",
       "      <td>wordcloud</td>\n",
       "      <td>379</td>\n",
       "    </tr>\n",
       "    <tr>\n",
       "      <th>40</th>\n",
       "      <td>shutil</td>\n",
       "      <td>356</td>\n",
       "    </tr>\n",
       "    <tr>\n",
       "      <th>41</th>\n",
       "      <td>csv</td>\n",
       "      <td>350</td>\n",
       "    </tr>\n",
       "    <tr>\n",
       "      <th>42</th>\n",
       "      <td>catboost</td>\n",
       "      <td>312</td>\n",
       "    </tr>\n",
       "    <tr>\n",
       "      <th>43</th>\n",
       "      <td>bokeh</td>\n",
       "      <td>296</td>\n",
       "    </tr>\n",
       "    <tr>\n",
       "      <th>44</th>\n",
       "      <td>zipfile</td>\n",
       "      <td>282</td>\n",
       "    </tr>\n",
       "    <tr>\n",
       "      <th>45</th>\n",
       "      <td>albumentations</td>\n",
       "      <td>272</td>\n",
       "    </tr>\n",
       "    <tr>\n",
       "      <th>46</th>\n",
       "      <td>imblearn</td>\n",
       "      <td>271</td>\n",
       "    </tr>\n",
       "    <tr>\n",
       "      <th>47</th>\n",
       "      <td>transformers</td>\n",
       "      <td>266</td>\n",
       "    </tr>\n",
       "    <tr>\n",
       "      <th>48</th>\n",
       "      <td>torch_xla</td>\n",
       "      <td>251</td>\n",
       "    </tr>\n",
       "    <tr>\n",
       "      <th>49</th>\n",
       "      <td>functools</td>\n",
       "      <td>250</td>\n",
       "    </tr>\n",
       "  </tbody>\n",
       "</table>\n",
       "</div>"
      ],
      "text/plain": [
       "           library  slug_count\n",
       "0          sklearn       29947\n",
       "1            keras       15364\n",
       "2           pandas       12696\n",
       "3            numpy       12556\n",
       "4       matplotlib        9414\n",
       "5               os        9349\n",
       "6       tensorflow        5009\n",
       "7          seaborn        4103\n",
       "8            torch        3667\n",
       "9            scipy        2501\n",
       "10            tqdm        2487\n",
       "11          plotly        2387\n",
       "12        warnings        2181\n",
       "13            nltk        2131\n",
       "14         xgboost        1797\n",
       "15              gc        1769\n",
       "16            time        1738\n",
       "17          random        1702\n",
       "18        lightgbm        1567\n",
       "19            math        1427\n",
       "20          fastai        1426\n",
       "21        datetime        1402\n",
       "22             cv2        1398\n",
       "23              re        1332\n",
       "24         IPython        1328\n",
       "25         skimage        1176\n",
       "26             PIL        1085\n",
       "27     collections         984\n",
       "28      subprocess         979\n",
       "29             sys         951\n",
       "30     torchvision         850\n",
       "31            glob         757\n",
       "32            json         690\n",
       "33     statsmodels         620\n",
       "34       itertools         611\n",
       "35          pickle         498\n",
       "36          gensim         496\n",
       "37         pathlib         480\n",
       "38          string         461\n",
       "39       wordcloud         379\n",
       "40          shutil         356\n",
       "41             csv         350\n",
       "42        catboost         312\n",
       "43           bokeh         296\n",
       "44         zipfile         282\n",
       "45  albumentations         272\n",
       "46        imblearn         271\n",
       "47    transformers         266\n",
       "48       torch_xla         251\n",
       "49       functools         250"
      ]
     },
     "execution_count": 52,
     "metadata": {},
     "output_type": "execute_result"
    }
   ],
   "source": [
    "base_lib_counts"
   ]
  },
  {
   "cell_type": "code",
   "execution_count": 149,
   "metadata": {},
   "outputs": [],
   "source": [
    "base_lib_counts.to_json(\"/homes/gws/mikeam/RobustDataScience/data/processed/kaggle_most_common_libraries.jsonl\",\n",
    "                        orient = \"records\", lines = True)"
   ]
  },
  {
   "cell_type": "code",
   "execution_count": 55,
   "metadata": {},
   "outputs": [
    {
     "name": "stdout",
     "output_type": "stream",
     "text": [
      "{\"library\":\"sklearn\",\"slug_count\":29947}\n",
      "{\"library\":\"keras\",\"slug_count\":15364}\n",
      "{\"library\":\"pandas\",\"slug_count\":12696}\n",
      "{\"library\":\"numpy\",\"slug_count\":12556}\n",
      "{\"library\":\"matplotlib\",\"slug_count\":9414}\n"
     ]
    }
   ],
   "source": [
    "!head -n5 /homes/gws/mikeam/RobustDataScience/data/processed/kaggle_most_common_libraries.jsonl"
   ]
  },
  {
   "cell_type": "code",
   "execution_count": 86,
   "metadata": {},
   "outputs": [],
   "source": [
    "from treelib import Tree, Node\n",
    "from enum import Enum\n",
    "import inspect\n",
    "import pkgutil\n",
    "import sys"
   ]
  },
  {
   "cell_type": "code",
   "execution_count": 143,
   "metadata": {},
   "outputs": [],
   "source": [
    "class PackageNode(Enum):\n",
    "    MODULE = 1\n",
    "    CLASS = 2\n",
    "    FUNCTION = 3\n",
    "    PARAM = 4"
   ]
  },
  {
   "cell_type": "code",
   "execution_count": 73,
   "metadata": {},
   "outputs": [
    {
     "data": {
      "text/plain": [
       "<PackageNode.MODULE: 1>"
      ]
     },
     "execution_count": 73,
     "metadata": {},
     "output_type": "execute_result"
    }
   ],
   "source": [
    "PackageNode.MODULE"
   ]
  },
  {
   "cell_type": "code",
   "execution_count": 147,
   "metadata": {},
   "outputs": [
    {
     "name": "stdout",
     "output_type": "stream",
     "text": [
      "pandas._config\n",
      "pandas._config.config\n",
      "pandas._config.dates\n",
      "pandas._config.display\n",
      "pandas._config.localization\n",
      "pandas._libs\n",
      "pandas._libs.algos\n",
      "pandas._libs.groupby\n",
      "pandas._libs.hashing\n",
      "pandas._libs.hashtable\n",
      "pandas._libs.index\n",
      "pandas._libs.indexing\n",
      "pandas._libs.internals\n",
      "pandas._libs.interval\n",
      "pandas._libs.join\n",
      "pandas._libs.json\n",
      "pandas._libs.lib\n",
      "pandas._libs.missing\n",
      "pandas._libs.ops\n",
      "pandas._libs.ops_dispatch\n",
      "pandas._libs.parsers\n",
      "pandas._libs.properties\n",
      "pandas._libs.reduction\n",
      "pandas._libs.reshape\n",
      "pandas._libs.sparse\n",
      "pandas._libs.testing\n",
      "pandas._libs.tslib\n",
      "pandas._libs.tslibs\n",
      "pandas._libs.tslibs.c_timestamp\n",
      "pandas._libs.tslibs.ccalendar\n",
      "pandas._libs.tslibs.conversion\n",
      "pandas._libs.tslibs.fields\n",
      "pandas._libs.tslibs.frequencies\n",
      "pandas._libs.tslibs.nattype\n",
      "pandas._libs.tslibs.np_datetime\n",
      "pandas._libs.tslibs.offsets\n",
      "pandas._libs.tslibs.parsing\n",
      "pandas._libs.tslibs.period\n",
      "pandas._libs.tslibs.resolution\n",
      "pandas._libs.tslibs.strptime\n",
      "pandas._libs.tslibs.timedeltas\n",
      "pandas._libs.tslibs.timestamps\n",
      "pandas._libs.tslibs.timezones\n",
      "pandas._libs.tslibs.tzconversion\n",
      "pandas._libs.window\n",
      "pandas._libs.window.aggregations\n",
      "pandas._libs.window.indexers\n",
      "pandas._libs.writers\n",
      "pandas._testing\n"
     ]
    },
    {
     "ename": "DuplicatedNodeIdError",
     "evalue": "Can't create node with ID 'pandas._testing.DataFrame.copy'",
     "output_type": "error",
     "traceback": [
      "\u001b[0;31m---------------------------------------------------------------------------\u001b[0m",
      "\u001b[0;31mDuplicatedNodeIdError\u001b[0m                     Traceback (most recent call last)",
      "\u001b[0;32m<ipython-input-147-70ecb4d249de>\u001b[0m in \u001b[0;36m<module>\u001b[0;34m\u001b[0m\n\u001b[1;32m     50\u001b[0m                     \u001b[0;32melse\u001b[0m\u001b[0;34m:\u001b[0m\u001b[0;34m\u001b[0m\u001b[0;34m\u001b[0m\u001b[0m\n\u001b[1;32m     51\u001b[0m                         \u001b[0mattr_key\u001b[0m \u001b[0;34m=\u001b[0m \u001b[0;34m\".\"\u001b[0m\u001b[0;34m.\u001b[0m\u001b[0mjoin\u001b[0m\u001b[0;34m(\u001b[0m\u001b[0;34m[\u001b[0m\u001b[0mpkg_key\u001b[0m\u001b[0;34m,\u001b[0m\u001b[0mattr_name\u001b[0m\u001b[0;34m]\u001b[0m\u001b[0;34m)\u001b[0m\u001b[0;34m\u001b[0m\u001b[0;34m\u001b[0m\u001b[0m\n\u001b[0;32m---> 52\u001b[0;31m                         \u001b[0mpackage_tree\u001b[0m\u001b[0;34m.\u001b[0m\u001b[0mcreate_node\u001b[0m\u001b[0;34m(\u001b[0m\u001b[0mattr_name\u001b[0m\u001b[0;34m,\u001b[0m \u001b[0mattr_key\u001b[0m\u001b[0;34m,\u001b[0m \u001b[0mdata\u001b[0m \u001b[0;34m=\u001b[0m \u001b[0mPackageNode\u001b[0m\u001b[0;34m.\u001b[0m\u001b[0mFUNCTION\u001b[0m\u001b[0;34m,\u001b[0m \u001b[0mparent\u001b[0m \u001b[0;34m=\u001b[0m \u001b[0mpkg_key\u001b[0m\u001b[0;34m)\u001b[0m\u001b[0;34m\u001b[0m\u001b[0;34m\u001b[0m\u001b[0m\n\u001b[0m\u001b[1;32m     53\u001b[0m                         \u001b[0madd_param_nodes\u001b[0m\u001b[0;34m(\u001b[0m\u001b[0mattr\u001b[0m\u001b[0;34m,\u001b[0m\u001b[0mattr_key\u001b[0m\u001b[0;34m,\u001b[0m\u001b[0mpackage_tree\u001b[0m\u001b[0;34m)\u001b[0m\u001b[0;34m\u001b[0m\u001b[0;34m\u001b[0m\u001b[0m\n\u001b[1;32m     54\u001b[0m \u001b[0;34m\u001b[0m\u001b[0m\n",
      "\u001b[0;32m~/anaconda3/envs/RobustDataScience/lib/python3.8/site-packages/treelib/tree.py\u001b[0m in \u001b[0;36mcreate_node\u001b[0;34m(self, tag, identifier, parent, data)\u001b[0m\n\u001b[1;32m    370\u001b[0m         \"\"\"\n\u001b[1;32m    371\u001b[0m         \u001b[0mnode\u001b[0m \u001b[0;34m=\u001b[0m \u001b[0mself\u001b[0m\u001b[0;34m.\u001b[0m\u001b[0mnode_class\u001b[0m\u001b[0;34m(\u001b[0m\u001b[0mtag\u001b[0m\u001b[0;34m=\u001b[0m\u001b[0mtag\u001b[0m\u001b[0;34m,\u001b[0m \u001b[0midentifier\u001b[0m\u001b[0;34m=\u001b[0m\u001b[0midentifier\u001b[0m\u001b[0;34m,\u001b[0m \u001b[0mdata\u001b[0m\u001b[0;34m=\u001b[0m\u001b[0mdata\u001b[0m\u001b[0;34m)\u001b[0m\u001b[0;34m\u001b[0m\u001b[0;34m\u001b[0m\u001b[0m\n\u001b[0;32m--> 372\u001b[0;31m         \u001b[0mself\u001b[0m\u001b[0;34m.\u001b[0m\u001b[0madd_node\u001b[0m\u001b[0;34m(\u001b[0m\u001b[0mnode\u001b[0m\u001b[0;34m,\u001b[0m \u001b[0mparent\u001b[0m\u001b[0;34m)\u001b[0m\u001b[0;34m\u001b[0m\u001b[0;34m\u001b[0m\u001b[0m\n\u001b[0m\u001b[1;32m    373\u001b[0m         \u001b[0;32mreturn\u001b[0m \u001b[0mnode\u001b[0m\u001b[0;34m\u001b[0m\u001b[0;34m\u001b[0m\u001b[0m\n\u001b[1;32m    374\u001b[0m \u001b[0;34m\u001b[0m\u001b[0m\n",
      "\u001b[0;32m~/anaconda3/envs/RobustDataScience/lib/python3.8/site-packages/treelib/tree.py\u001b[0m in \u001b[0;36madd_node\u001b[0;34m(self, node, parent)\u001b[0m\n\u001b[1;32m    293\u001b[0m \u001b[0;34m\u001b[0m\u001b[0m\n\u001b[1;32m    294\u001b[0m         \u001b[0;32mif\u001b[0m \u001b[0mnode\u001b[0m\u001b[0;34m.\u001b[0m\u001b[0midentifier\u001b[0m \u001b[0;32min\u001b[0m \u001b[0mself\u001b[0m\u001b[0;34m.\u001b[0m\u001b[0m_nodes\u001b[0m\u001b[0;34m:\u001b[0m\u001b[0;34m\u001b[0m\u001b[0;34m\u001b[0m\u001b[0m\n\u001b[0;32m--> 295\u001b[0;31m             raise DuplicatedNodeIdError(\"Can't create node \"\n\u001b[0m\u001b[1;32m    296\u001b[0m                                         \"with ID '%s'\" % node.identifier)\n\u001b[1;32m    297\u001b[0m \u001b[0;34m\u001b[0m\u001b[0m\n",
      "\u001b[0;31mDuplicatedNodeIdError\u001b[0m: Can't create node with ID 'pandas._testing.DataFrame.copy'"
     ]
    }
   ],
   "source": [
    "def add_param_nodes(fcn,parent,tree):\n",
    "#     print(fcn,parent)\n",
    "    try:\n",
    "        params = inspect.signature(fcn).parameters.values()\n",
    "    except ValueError:\n",
    "        return\n",
    "        \n",
    "    for param in inspect.signature(fcn).parameters.values():\n",
    "        if param.kind == param.POSITIONAL_OR_KEYWORD:\n",
    "            param_id = \".\".join([parent,param.name])\n",
    "            tree.create_node(param.name, param_id, parent=parent, data = PackageNode.PARAM)\n",
    "\n",
    "package=pd\n",
    "package_tree = Tree()\n",
    "package_name = str(pd.__name__)\n",
    "package_tree.create_node(package_name, package_name,data = PackageNode.MODULE)\n",
    "\n",
    "for importer, modname, ispkg in pkgutil.walk_packages(path=package.__path__,\n",
    "                                                       prefix=package.__name__+'.',\n",
    "                                                        onerror=lambda x: None):\n",
    "    pkg_name = modname.split(\".\")[-1]\n",
    "    pkg_parent = \".\".join(modname.split(\".\")[:-1])\n",
    "    package_tree.create_node(pkg_name,modname, data = PackageNode.MODULE, parent = pkg_parent)\n",
    "\n",
    "    #Crawl through the package\n",
    "    try:\n",
    "        pkg = sys.modules[modname]\n",
    "    except KeyError:\n",
    "        continue\n",
    "        \n",
    "    print(modname)\n",
    "    for name, obj in inspect.getmembers(pkg, lambda x: inspect.isclass(x) or inspect.isfunction(x)):\n",
    "        pkg_key = \".\".join([modname,name])\n",
    "        \n",
    "        if inspect.isfunction(obj):\n",
    "\n",
    "            package_tree.create_node(name, pkg_key, data = PackageNode.FUNCTION, parent = modname)\n",
    "            add_param_nodes(obj, pkg_key, package_tree)\n",
    "            \n",
    "        elif inspect.isclass(obj):\n",
    "            package_tree.create_node(name, pkg_key , data = PackageNode.CLASS, parent = modname)\n",
    "            for attr_name in dir(obj):\n",
    "                attr = getattr(obj, attr_name)\n",
    "\n",
    "                if callable(attr):\n",
    "                    if attr_name == \"__init__\":\n",
    "                        add_param_nodes(attr, pkg_key, package_tree)\n",
    "                    elif re.match(r\"__.*__\",attr_name):\n",
    "                        continue\n",
    "                    else:\n",
    "                        attr_key = \".\".join([pkg_key,attr_name])\n",
    "                        package_tree.create_node(attr_name, attr_key, data = PackageNode.FUNCTION, parent = pkg_key)\n",
    "                        add_param_nodes(attr,attr_key,package_tree)\n",
    "                        "
   ]
  },
  {
   "cell_type": "code",
   "execution_count": 148,
   "metadata": {
    "scrolled": true
   },
   "outputs": [
    {
     "data": {
      "text/plain": [
       "<treelib.tree.Tree at 0x7f60460c0be0>"
      ]
     },
     "execution_count": 148,
     "metadata": {},
     "output_type": "execute_result"
    }
   ],
   "source": []
  },
  {
   "cell_type": "code",
   "execution_count": 132,
   "metadata": {},
   "outputs": [
    {
     "data": {
      "text/plain": [
       "6"
      ]
     },
     "execution_count": 132,
     "metadata": {},
     "output_type": "execute_result"
    }
   ],
   "source": [
    "package_tree.depth()"
   ]
  },
  {
   "cell_type": "code",
   "execution_count": 141,
   "metadata": {},
   "outputs": [
    {
     "data": {
      "text/plain": [
       "<re.Match object; span=(0, 8), match='__init__'>"
      ]
     },
     "execution_count": 141,
     "metadata": {},
     "output_type": "execute_result"
    }
   ],
   "source": [
    "re.match(r\"__.*__\",\"__init__\")"
   ]
  },
  {
   "cell_type": "code",
   "execution_count": null,
   "metadata": {},
   "outputs": [],
   "source": []
  }
 ],
 "metadata": {
  "kernelspec": {
   "display_name": "Python 3.8.2 64-bit ('RobustDataScience': conda)",
   "language": "python",
   "name": "python38264bitrobustdatasciencecondaff3daa7a14f54e6fb30e1fe30261bdb5"
  },
  "language_info": {
   "codemirror_mode": {
    "name": "ipython",
    "version": 3
   },
   "file_extension": ".py",
   "mimetype": "text/x-python",
   "name": "python",
   "nbconvert_exporter": "python",
   "pygments_lexer": "ipython3",
   "version": "3.8.2"
  }
 },
 "nbformat": 4,
 "nbformat_minor": 4
}
