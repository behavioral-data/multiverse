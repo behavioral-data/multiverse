{
 "cells": [
  {
   "cell_type": "code",
   "execution_count": 23,
   "metadata": {},
   "outputs": [],
   "source": [
    "! export PYTHONPATH=../"
   ]
  },
  {
   "cell_type": "code",
   "execution_count": 24,
   "metadata": {},
   "outputs": [
    {
     "name": "stderr",
     "output_type": "stream",
     "text": [
      "\u001b[34m\u001b[1mwandb\u001b[0m: \u001b[33mWARNING\u001b[0m W&B installed but not logged in.  Run `wandb login` or set the WANDB_API_KEY env variable.\n"
     ]
    }
   ],
   "source": [
    "from transformers import BartTokenizerFast\n",
    "\n",
    "from termcolor import colored\n",
    "\n",
    "import random\n",
    "\n",
    "import json\n",
    "import os"
   ]
  },
  {
   "cell_type": "code",
   "execution_count": 16,
   "metadata": {},
   "outputs": [],
   "source": [
    "import difflib\n"
   ]
  },
  {
   "cell_type": "code",
   "execution_count": 122,
   "metadata": {},
   "outputs": [],
   "source": [
    "# path_to_results = '/projects/bdata/tmp/autumn-salad-68/eval-preds-160000.jsonl'\n",
    "# path_to_results = '/projects/bdata/tmp/eval-preds-overnight-sad.jsonl'\n",
    "path_to_results = '/projects/bdata/tmp/eval-preds-nopt-20201012.jsonl'"
   ]
  },
  {
   "cell_type": "code",
   "execution_count": 123,
   "metadata": {},
   "outputs": [],
   "source": [
    "data = []\n",
    "with open(path_to_results, 'r') as f:\n",
    "    for l in f:\n",
    "        data.append(json.loads(l))"
   ]
  },
  {
   "cell_type": "code",
   "execution_count": 124,
   "metadata": {},
   "outputs": [
    {
     "data": {
      "text/plain": [
       "3495"
      ]
     },
     "execution_count": 124,
     "metadata": {},
     "output_type": "execute_result"
    }
   ],
   "source": [
    "len(data)"
   ]
  },
  {
   "cell_type": "code",
   "execution_count": 125,
   "metadata": {},
   "outputs": [
    {
     "data": {
      "text/plain": [
       "dict_keys(['input', 'label', 'prediction', 'input_ids', 'label_ids', 'pred'])"
      ]
     },
     "execution_count": 125,
     "metadata": {},
     "output_type": "execute_result"
    }
   ],
   "source": [
    "\n",
    "data[0].keys()"
   ]
  },
  {
   "cell_type": "code",
   "execution_count": 130,
   "metadata": {},
   "outputs": [],
   "source": [
    "def display_diff(string1, string2):\n",
    "    for text in difflib.unified_diff(string1.split(\"\\n\"), string2.split(\"\\n\")):\n",
    "        if text[:3] not in ('+++', '---', '@@ '):\n",
    "            if text.startswith('-'):\n",
    "                print(colored(text, 'red'))\n",
    "            elif text.startswith('+'):\n",
    "                print(colored(text, 'green'))\n",
    "            else:\n",
    "                print(text)"
   ]
  },
  {
   "cell_type": "code",
   "execution_count": 131,
   "metadata": {},
   "outputs": [],
   "source": [
    "example = random.choice(data)"
   ]
  },
  {
   "cell_type": "code",
   "execution_count": 132,
   "metadata": {},
   "outputs": [
    {
     "name": "stdout",
     "output_type": "stream",
     "text": [
      "\u001b[31m-data_numerical = data[numerical_columns]\u001b[0m\n",
      "\u001b[32m+test_numerical=test[numerical_columns]\u001b[0m\n"
     ]
    }
   ],
   "source": [
    "display_diff(example[\"input\"], example[\"label\"])"
   ]
  },
  {
   "cell_type": "code",
   "execution_count": 133,
   "metadata": {},
   "outputs": [
    {
     "name": "stdout",
     "output_type": "stream",
     "text": [
      "\u001b[31m-data_numerical = data[numerical_columns]\u001b[0m\n",
      "\u001b[32m+_numerical = data[data[data_columns]]\u001b[0m\n"
     ]
    }
   ],
   "source": [
    "display_diff(example[\"input\"], example[\"prediction\"])"
   ]
  },
  {
   "cell_type": "code",
   "execution_count": 134,
   "metadata": {},
   "outputs": [
    {
     "name": "stdout",
     "output_type": "stream",
     "text": [
      "\u001b[31m-_numerical = data[data[data_columns]]\u001b[0m\n",
      "\u001b[32m+test_numerical=test[numerical_columns]\u001b[0m\n"
     ]
    }
   ],
   "source": [
    "display_diff(example[\"prediction\"], example[\"label\"])"
   ]
  },
  {
   "cell_type": "markdown",
   "metadata": {},
   "source": [
    "# Tokenize codes and insert space in between"
   ]
  },
  {
   "cell_type": "code",
   "execution_count": 67,
   "metadata": {},
   "outputs": [],
   "source": [
    "from tokenize import tokenize, untokenize, NUMBER, STRING, NAME, OP\n",
    "from io import BytesIO\n",
    "\n",
    "import re"
   ]
  },
  {
   "cell_type": "code",
   "execution_count": 120,
   "metadata": {},
   "outputs": [],
   "source": [
    "def insert_space_to_tokenized_code(string):\n",
    "    try:\n",
    "        g = tokenize(BytesIO(string.encode('utf-8')).readline)\n",
    "\n",
    "        result = []\n",
    "\n",
    "        for toknum, tokval, _, _, _ in g:\n",
    "            result.append(tokval)\n",
    "        result = result[1:]\n",
    "    except:\n",
    "        result = string.split()\n",
    "    return ' '.join(result)"
   ]
  },
  {
   "cell_type": "code",
   "execution_count": 121,
   "metadata": {},
   "outputs": [
    {
     "name": "stdout",
     "output_type": "stream",
     "text": [
      "num_classes = 120 \n",
      " resnet_weights_path = '../input/resnet50/resnet50_weights_tf_dim_ordering_tf_kernels_notop.h5'  \n"
     ]
    }
   ],
   "source": [
    "print(insert_space_to_tokenized_code(example[\"input\"]))"
   ]
  },
  {
   "cell_type": "markdown",
   "metadata": {},
   "source": [
    "# Rouge"
   ]
  },
  {
   "cell_type": "code",
   "execution_count": 62,
   "metadata": {},
   "outputs": [],
   "source": [
    "from rouge import Rouge"
   ]
  },
  {
   "cell_type": "code",
   "execution_count": 63,
   "metadata": {},
   "outputs": [],
   "source": [
    "rouge = Rouge()"
   ]
  },
  {
   "cell_type": "code",
   "execution_count": 135,
   "metadata": {},
   "outputs": [],
   "source": [
    "predictions = [d[\"prediction\"] for d in data]"
   ]
  },
  {
   "cell_type": "code",
   "execution_count": 139,
   "metadata": {},
   "outputs": [],
   "source": [
    "labels = [d[\"label\"] for d in data]"
   ]
  },
  {
   "cell_type": "code",
   "execution_count": 140,
   "metadata": {},
   "outputs": [
    {
     "data": {
      "text/plain": [
       "3495"
      ]
     },
     "execution_count": 140,
     "metadata": {},
     "output_type": "execute_result"
    }
   ],
   "source": [
    "len(labels)"
   ]
  },
  {
   "cell_type": "code",
   "execution_count": 141,
   "metadata": {},
   "outputs": [
    {
     "data": {
      "text/plain": [
       "3495"
      ]
     },
     "execution_count": 141,
     "metadata": {},
     "output_type": "execute_result"
    }
   ],
   "source": [
    "len(predictions)"
   ]
  },
  {
   "cell_type": "code",
   "execution_count": 144,
   "metadata": {},
   "outputs": [
    {
     "data": {
      "text/plain": [
       "{'rouge-1': {'f': 0.4190720264974113,\n",
       "  'p': 0.43828403251010034,\n",
       "  'r': 0.4271335497886075},\n",
       " 'rouge-2': {'f': 0.22649796913324916,\n",
       "  'p': 0.2381446413098304,\n",
       "  'r': 0.2291421860837875},\n",
       " 'rouge-l': {'f': 0.4270384373171943,\n",
       "  'p': 0.42568682527942153,\n",
       "  'r': 0.45093692885546993}}"
      ]
     },
     "execution_count": 144,
     "metadata": {},
     "output_type": "execute_result"
    }
   ],
   "source": [
    "rouge.get_scores(labels, predictions, avg=True, ignore_empty=True)"
   ]
  },
  {
   "cell_type": "markdown",
   "metadata": {},
   "source": [
    "# Rouge with special tokenization"
   ]
  },
  {
   "cell_type": "code",
   "execution_count": 145,
   "metadata": {},
   "outputs": [],
   "source": [
    "predictions  = [insert_space_to_tokenized_code(d[\"prediction\"]) for d in data]"
   ]
  },
  {
   "cell_type": "code",
   "execution_count": 146,
   "metadata": {},
   "outputs": [],
   "source": [
    "labels = [insert_space_to_tokenized_code(d[\"label\"]) for d in data]"
   ]
  },
  {
   "cell_type": "code",
   "execution_count": 147,
   "metadata": {},
   "outputs": [
    {
     "data": {
      "text/plain": [
       "{'rouge-1': {'f': 0.4687167032767533,\n",
       "  'p': 0.468177090278831,\n",
       "  'r': 0.5191222396400891},\n",
       " 'rouge-2': {'f': 0.29837637409903556,\n",
       "  'p': 0.30335970640620324,\n",
       "  'r': 0.3172249710736497},\n",
       " 'rouge-l': {'f': 0.4853926578365272,\n",
       "  'p': 0.4628293249597014,\n",
       "  'r': 0.5448147807474536}}"
      ]
     },
     "execution_count": 147,
     "metadata": {},
     "output_type": "execute_result"
    }
   ],
   "source": [
    "rouge.get_scores(labels, predictions, avg=True, ignore_empty=True)"
   ]
  },
  {
   "cell_type": "code",
   "execution_count": null,
   "metadata": {},
   "outputs": [],
   "source": []
  }
 ],
 "metadata": {
  "kernelspec": {
   "display_name": "Python 3",
   "language": "python",
   "name": "python3"
  },
  "language_info": {
   "codemirror_mode": {
    "name": "ipython",
    "version": 3
   },
   "file_extension": ".py",
   "mimetype": "text/x-python",
   "name": "python",
   "nbconvert_exporter": "python",
   "pygments_lexer": "ipython3",
   "version": "3.7.8"
  }
 },
 "nbformat": 4,
 "nbformat_minor": 4
}
